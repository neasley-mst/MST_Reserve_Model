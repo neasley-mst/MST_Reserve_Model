{
 "cells": [
  {
   "cell_type": "code",
   "execution_count": 1,
   "metadata": {},
   "outputs": [],
   "source": [
    "import pandas as pd\n",
    "from sklearn.linear_model import LinearRegression"
   ]
  },
  {
   "cell_type": "code",
   "execution_count": 2,
   "metadata": {},
   "outputs": [],
   "source": [
    "file_path = 'Linear_reg_test_data.csv'\n",
    "df = pd.read_csv(file_path)"
   ]
  },
  {
   "cell_type": "code",
   "execution_count": 3,
   "metadata": {},
   "outputs": [
    {
     "name": "stdout",
     "output_type": "stream",
     "text": [
      "<class 'pandas.core.frame.DataFrame'>\n",
      "RangeIndex: 55 entries, 0 to 54\n",
      "Data columns (total 6 columns):\n",
      " #   Column       Non-Null Count  Dtype  \n",
      "---  ------       --------------  -----  \n",
      " 0   LOB          55 non-null     object \n",
      " 1   origin       55 non-null     object \n",
      " 2   valuation    55 non-null     object \n",
      " 3   development  55 non-null     int64  \n",
      " 4   CumPaidLoss  55 non-null     int64  \n",
      " 5   Ultimate     55 non-null     float64\n",
      "dtypes: float64(1), int64(2), object(3)\n",
      "memory usage: 2.7+ KB\n"
     ]
    }
   ],
   "source": [
    "df.info()"
   ]
  },
  {
   "cell_type": "code",
   "execution_count": 4,
   "metadata": {},
   "outputs": [
    {
     "data": {
      "text/html": [
       "<div>\n",
       "<style scoped>\n",
       "    .dataframe tbody tr th:only-of-type {\n",
       "        vertical-align: middle;\n",
       "    }\n",
       "\n",
       "    .dataframe tbody tr th {\n",
       "        vertical-align: top;\n",
       "    }\n",
       "\n",
       "    .dataframe thead th {\n",
       "        text-align: right;\n",
       "    }\n",
       "</style>\n",
       "<table border=\"1\" class=\"dataframe\">\n",
       "  <thead>\n",
       "    <tr style=\"text-align: right;\">\n",
       "      <th></th>\n",
       "      <th>LOB</th>\n",
       "      <th>origin</th>\n",
       "      <th>valuation</th>\n",
       "      <th>development</th>\n",
       "      <th>CumPaidLoss</th>\n",
       "      <th>Ultimate</th>\n",
       "    </tr>\n",
       "  </thead>\n",
       "  <tbody>\n",
       "    <tr>\n",
       "      <th>0</th>\n",
       "      <td>comauto</td>\n",
       "      <td>1/1/1988</td>\n",
       "      <td>12/31/1988</td>\n",
       "      <td>12</td>\n",
       "      <td>154058</td>\n",
       "      <td>626097.0</td>\n",
       "    </tr>\n",
       "    <tr>\n",
       "      <th>1</th>\n",
       "      <td>comauto</td>\n",
       "      <td>1/1/1988</td>\n",
       "      <td>12/31/1989</td>\n",
       "      <td>24</td>\n",
       "      <td>326916</td>\n",
       "      <td>626097.0</td>\n",
       "    </tr>\n",
       "    <tr>\n",
       "      <th>2</th>\n",
       "      <td>comauto</td>\n",
       "      <td>1/1/1988</td>\n",
       "      <td>12/31/1990</td>\n",
       "      <td>36</td>\n",
       "      <td>447963</td>\n",
       "      <td>626097.0</td>\n",
       "    </tr>\n",
       "    <tr>\n",
       "      <th>3</th>\n",
       "      <td>comauto</td>\n",
       "      <td>1/1/1988</td>\n",
       "      <td>12/31/1991</td>\n",
       "      <td>48</td>\n",
       "      <td>528167</td>\n",
       "      <td>626097.0</td>\n",
       "    </tr>\n",
       "    <tr>\n",
       "      <th>4</th>\n",
       "      <td>comauto</td>\n",
       "      <td>1/1/1988</td>\n",
       "      <td>12/31/1992</td>\n",
       "      <td>60</td>\n",
       "      <td>574471</td>\n",
       "      <td>626097.0</td>\n",
       "    </tr>\n",
       "  </tbody>\n",
       "</table>\n",
       "</div>"
      ],
      "text/plain": [
       "       LOB    origin   valuation  development  CumPaidLoss  Ultimate\n",
       "0  comauto  1/1/1988  12/31/1988           12       154058  626097.0\n",
       "1  comauto  1/1/1988  12/31/1989           24       326916  626097.0\n",
       "2  comauto  1/1/1988  12/31/1990           36       447963  626097.0\n",
       "3  comauto  1/1/1988  12/31/1991           48       528167  626097.0\n",
       "4  comauto  1/1/1988  12/31/1992           60       574471  626097.0"
      ]
     },
     "execution_count": 4,
     "metadata": {},
     "output_type": "execute_result"
    }
   ],
   "source": [
    "df.head()"
   ]
  },
  {
   "cell_type": "code",
   "execution_count": 5,
   "metadata": {},
   "outputs": [],
   "source": [
    "date_cols = ['origin', 'valuation']\n",
    "for column in date_cols:\n",
    "    df[column] = pd.to_datetime(df[column])"
   ]
  },
  {
   "cell_type": "code",
   "execution_count": 6,
   "metadata": {},
   "outputs": [],
   "source": [
    "current_eval = '12/31/1997'\n",
    "prediction_data = df[df['valuation'] == current_eval]"
   ]
  },
  {
   "cell_type": "code",
   "execution_count": 7,
   "metadata": {},
   "outputs": [],
   "source": [
    "fitting_data = df[df['valuation'] != current_eval]"
   ]
  },
  {
   "cell_type": "code",
   "execution_count": 8,
   "metadata": {},
   "outputs": [],
   "source": [
    "models = {}\n",
    "predictions = []"
   ]
  },
  {
   "cell_type": "code",
   "execution_count": 9,
   "metadata": {},
   "outputs": [],
   "source": [
    "for (lob, development), group in fitting_data.groupby(['LOB', 'development']):\n",
    "    if group.shape[0] > 1:\n",
    "        X = group[['CumPaidLoss']]\n",
    "        y = group['Ultimate']\n",
    "\n",
    "        #fit a linear regression model\n",
    "        model = LinearRegression()\n",
    "        model.fit(X, y)\n",
    "\n",
    "        #Store the model for reference\n",
    "        models[(lob, development)] = model\n",
    "\n",
    "        target_subset = prediction_data[(prediction_data['LOB'] == lob) & (prediction_data['development'] == development)].copy()\n",
    "        if not target_subset.empty:\n",
    "            X_new = target_subset[['CumPaidLoss']]\n",
    "            target_subset['Least_Squares_Ult'] = model.predict(X_new)\n",
    "            predictions.append(target_subset)\n",
    "\n",
    "predictions_df = pd.concat(predictions, ignore_index=True)\n"
   ]
  },
  {
   "cell_type": "code",
   "execution_count": 10,
   "metadata": {},
   "outputs": [
    {
     "data": {
      "text/html": [
       "<div>\n",
       "<style scoped>\n",
       "    .dataframe tbody tr th:only-of-type {\n",
       "        vertical-align: middle;\n",
       "    }\n",
       "\n",
       "    .dataframe tbody tr th {\n",
       "        vertical-align: top;\n",
       "    }\n",
       "\n",
       "    .dataframe thead th {\n",
       "        text-align: right;\n",
       "    }\n",
       "</style>\n",
       "<table border=\"1\" class=\"dataframe\">\n",
       "  <thead>\n",
       "    <tr style=\"text-align: right;\">\n",
       "      <th></th>\n",
       "      <th>LOB</th>\n",
       "      <th>origin</th>\n",
       "      <th>valuation</th>\n",
       "      <th>development</th>\n",
       "      <th>CumPaidLoss</th>\n",
       "      <th>Ultimate</th>\n",
       "      <th>Least_Squares_Ult</th>\n",
       "    </tr>\n",
       "  </thead>\n",
       "  <tbody>\n",
       "    <tr>\n",
       "      <th>0</th>\n",
       "      <td>comauto</td>\n",
       "      <td>1997-01-01</td>\n",
       "      <td>1997-12-31</td>\n",
       "      <td>12</td>\n",
       "      <td>272342</td>\n",
       "      <td>9.041841e+05</td>\n",
       "      <td>1.131940e+06</td>\n",
       "    </tr>\n",
       "    <tr>\n",
       "      <th>1</th>\n",
       "      <td>comauto</td>\n",
       "      <td>1996-01-01</td>\n",
       "      <td>1997-12-31</td>\n",
       "      <td>24</td>\n",
       "      <td>510191</td>\n",
       "      <td>1.027631e+06</td>\n",
       "      <td>1.141180e+06</td>\n",
       "    </tr>\n",
       "    <tr>\n",
       "      <th>2</th>\n",
       "      <td>comauto</td>\n",
       "      <td>1995-01-01</td>\n",
       "      <td>1997-12-31</td>\n",
       "      <td>36</td>\n",
       "      <td>675166</td>\n",
       "      <td>1.096179e+06</td>\n",
       "      <td>1.158015e+06</td>\n",
       "    </tr>\n",
       "    <tr>\n",
       "      <th>3</th>\n",
       "      <td>comauto</td>\n",
       "      <td>1994-01-01</td>\n",
       "      <td>1997-12-31</td>\n",
       "      <td>48</td>\n",
       "      <td>768095</td>\n",
       "      <td>1.098775e+06</td>\n",
       "      <td>1.142803e+06</td>\n",
       "    </tr>\n",
       "    <tr>\n",
       "      <th>4</th>\n",
       "      <td>comauto</td>\n",
       "      <td>1993-01-01</td>\n",
       "      <td>1997-12-31</td>\n",
       "      <td>60</td>\n",
       "      <td>762039</td>\n",
       "      <td>1.000256e+06</td>\n",
       "      <td>1.027862e+06</td>\n",
       "    </tr>\n",
       "    <tr>\n",
       "      <th>5</th>\n",
       "      <td>comauto</td>\n",
       "      <td>1992-01-01</td>\n",
       "      <td>1997-12-31</td>\n",
       "      <td>72</td>\n",
       "      <td>731033</td>\n",
       "      <td>9.102624e+05</td>\n",
       "      <td>8.983256e+05</td>\n",
       "    </tr>\n",
       "    <tr>\n",
       "      <th>6</th>\n",
       "      <td>comauto</td>\n",
       "      <td>1991-01-01</td>\n",
       "      <td>1997-12-31</td>\n",
       "      <td>84</td>\n",
       "      <td>711762</td>\n",
       "      <td>8.447233e+05</td>\n",
       "      <td>8.194450e+05</td>\n",
       "    </tr>\n",
       "    <tr>\n",
       "      <th>7</th>\n",
       "      <td>comauto</td>\n",
       "      <td>1990-01-01</td>\n",
       "      <td>1997-12-31</td>\n",
       "      <td>96</td>\n",
       "      <td>718396</td>\n",
       "      <td>8.140462e+05</td>\n",
       "      <td>8.569705e+05</td>\n",
       "    </tr>\n",
       "  </tbody>\n",
       "</table>\n",
       "</div>"
      ],
      "text/plain": [
       "       LOB     origin  valuation  development  CumPaidLoss      Ultimate  \\\n",
       "0  comauto 1997-01-01 1997-12-31           12       272342  9.041841e+05   \n",
       "1  comauto 1996-01-01 1997-12-31           24       510191  1.027631e+06   \n",
       "2  comauto 1995-01-01 1997-12-31           36       675166  1.096179e+06   \n",
       "3  comauto 1994-01-01 1997-12-31           48       768095  1.098775e+06   \n",
       "4  comauto 1993-01-01 1997-12-31           60       762039  1.000256e+06   \n",
       "5  comauto 1992-01-01 1997-12-31           72       731033  9.102624e+05   \n",
       "6  comauto 1991-01-01 1997-12-31           84       711762  8.447233e+05   \n",
       "7  comauto 1990-01-01 1997-12-31           96       718396  8.140462e+05   \n",
       "\n",
       "   Least_Squares_Ult  \n",
       "0       1.131940e+06  \n",
       "1       1.141180e+06  \n",
       "2       1.158015e+06  \n",
       "3       1.142803e+06  \n",
       "4       1.027862e+06  \n",
       "5       8.983256e+05  \n",
       "6       8.194450e+05  \n",
       "7       8.569705e+05  "
      ]
     },
     "execution_count": 10,
     "metadata": {},
     "output_type": "execute_result"
    }
   ],
   "source": [
    "predictions_df"
   ]
  }
 ],
 "metadata": {
  "kernelspec": {
   "display_name": "MST-Actuarial",
   "language": "python",
   "name": "python3"
  },
  "language_info": {
   "codemirror_mode": {
    "name": "ipython",
    "version": 3
   },
   "file_extension": ".py",
   "mimetype": "text/x-python",
   "name": "python",
   "nbconvert_exporter": "python",
   "pygments_lexer": "ipython3",
   "version": "3.12.4"
  }
 },
 "nbformat": 4,
 "nbformat_minor": 2
}
