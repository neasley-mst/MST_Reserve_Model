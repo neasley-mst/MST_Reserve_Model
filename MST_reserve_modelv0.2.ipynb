{
 "cells": [
  {
   "cell_type": "markdown",
   "id": "accc821e",
   "metadata": {},
   "source": [
    "## MST Reserving Model v0.2"
   ]
  },
  {
   "cell_type": "markdown",
   "id": "5fbcb4b1",
   "metadata": {},
   "source": [
    "Date: 12/20/2024<br>\n",
    "<br>\n",
    "Test model for testing potential methodology using sample data.  The model is considered ready for testing with MST data now that it can meet the following requirements:\n",
    "1. Utilize manually input loss development factors\n",
    "2. Utilize manually input a' priori loss ratios\n",
    "3. Perform `Chainladder` method using the manual ldfs\n",
    "4. Perform `BornhuetterFerguson` method using manual ldfs and a' prior loss ratios\n",
    "5. Perform `CapeCod` method using manual ldfs\n",
    "6. Perform a Least Squares method\n",
    "7. Balance to excel model output (MST_reserve_modelv0.1.xlsx)\n",
    " "
   ]
  },
  {
   "cell_type": "markdown",
   "id": "e3a1363c",
   "metadata": {},
   "source": [
    "## Importing libraries and data\n",
    "\n",
    "### Library dependicies\n",
    "`chainladder` for building chainladder, BF, and GCC models. Also useful for building triangles.<br> \n",
    "`pandas` data munipulation<br>\n",
    "`matplotlib` for plotting (duh) <br>\n",
    "`sklearn.linear_model.LinearRegression` for the Least Squares method\n",
    "\n",
    "### Data sources:\n",
    "1. clrd_lob.csv\n",
    "    - Sample triangle dataset\n",
    "2. cdf_constants.csv\n",
    "    - Manually selected cumulative loss development factors\n",
    "3. ELR.xlsx\n",
    "    - Manually selected expected loss ratios"
   ]
  },
  {
   "cell_type": "code",
   "execution_count": 1,
   "id": "1b0db5e4-ce9f-4a7f-9864-64f1d0527ed4",
   "metadata": {},
   "outputs": [
    {
     "name": "stdout",
     "output_type": "stream",
     "text": [
      "Chainladder version: 0.8.22\n"
     ]
    }
   ],
   "source": [
    "#import libraries\n",
    "import chainladder as cl #building reserve model and triangles\n",
    "import pandas as pd #Dataframe manipulation\n",
    "import matplotlib.pyplot as plt\n",
    "from sklearn.linear_model import LinearRegression\n",
    "print(\"Chainladder version: \"+cl.__version__)"
   ]
  },
  {
   "cell_type": "code",
   "execution_count": 2,
   "id": "d59a384c-4532-4f08-96a5-6ddb525fddc4",
   "metadata": {},
   "outputs": [],
   "source": [
    "#Importing data\n",
    "df_data = pd.read_csv(\"clrd_lob.csv\")\n",
    "df_cdf = pd.read_csv(\"cdf_constants.csv\")\n",
    "df_elr = pd.read_excel(\"ELR.xlsx\")"
   ]
  },
  {
   "cell_type": "code",
   "execution_count": 3,
   "id": "f4619f54",
   "metadata": {},
   "outputs": [
    {
     "data": {
      "text/plain": [
       "LOB                object\n",
       "origin             object\n",
       "valuation          object\n",
       "development         int64\n",
       "IncurLoss           int64\n",
       "CumPaidLoss         int64\n",
       "BulkLoss            int64\n",
       "EarnedPremDIR       int64\n",
       "EarnedPremCeded     int64\n",
       "EarnedPremNet       int64\n",
       "dtype: object"
      ]
     },
     "execution_count": 3,
     "metadata": {},
     "output_type": "execute_result"
    }
   ],
   "source": [
    "df_data.dtypes"
   ]
  },
  {
   "cell_type": "code",
   "execution_count": 4,
   "id": "b910af35-c1cd-44b4-9a69-6b9f59a8aa03",
   "metadata": {},
   "outputs": [
    {
     "data": {
      "text/html": [
       "<div>\n",
       "<style scoped>\n",
       "    .dataframe tbody tr th:only-of-type {\n",
       "        vertical-align: middle;\n",
       "    }\n",
       "\n",
       "    .dataframe tbody tr th {\n",
       "        vertical-align: top;\n",
       "    }\n",
       "\n",
       "    .dataframe thead th {\n",
       "        text-align: right;\n",
       "    }\n",
       "</style>\n",
       "<table border=\"1\" class=\"dataframe\">\n",
       "  <thead>\n",
       "    <tr style=\"text-align: right;\">\n",
       "      <th></th>\n",
       "      <th>LOB</th>\n",
       "      <th>origin</th>\n",
       "      <th>ELR</th>\n",
       "    </tr>\n",
       "  </thead>\n",
       "  <tbody>\n",
       "    <tr>\n",
       "      <th>0</th>\n",
       "      <td>comauto</td>\n",
       "      <td>1988-01-01</td>\n",
       "      <td>0.65</td>\n",
       "    </tr>\n",
       "    <tr>\n",
       "      <th>1</th>\n",
       "      <td>comauto</td>\n",
       "      <td>1989-01-01</td>\n",
       "      <td>0.65</td>\n",
       "    </tr>\n",
       "    <tr>\n",
       "      <th>2</th>\n",
       "      <td>comauto</td>\n",
       "      <td>1990-01-01</td>\n",
       "      <td>0.65</td>\n",
       "    </tr>\n",
       "    <tr>\n",
       "      <th>3</th>\n",
       "      <td>comauto</td>\n",
       "      <td>1991-01-01</td>\n",
       "      <td>0.65</td>\n",
       "    </tr>\n",
       "    <tr>\n",
       "      <th>4</th>\n",
       "      <td>comauto</td>\n",
       "      <td>1992-01-01</td>\n",
       "      <td>0.65</td>\n",
       "    </tr>\n",
       "  </tbody>\n",
       "</table>\n",
       "</div>"
      ],
      "text/plain": [
       "       LOB     origin   ELR\n",
       "0  comauto 1988-01-01  0.65\n",
       "1  comauto 1989-01-01  0.65\n",
       "2  comauto 1990-01-01  0.65\n",
       "3  comauto 1991-01-01  0.65\n",
       "4  comauto 1992-01-01  0.65"
      ]
     },
     "execution_count": 4,
     "metadata": {},
     "output_type": "execute_result"
    }
   ],
   "source": [
    "df_elr.head()"
   ]
  },
  {
   "cell_type": "code",
   "execution_count": 5,
   "id": "ef4866c7-e4e4-43e0-865f-46a9c01c71b5",
   "metadata": {},
   "outputs": [
    {
     "data": {
      "text/plain": [
       "LOB               object\n",
       "origin    datetime64[ns]\n",
       "ELR              float64\n",
       "dtype: object"
      ]
     },
     "execution_count": 5,
     "metadata": {},
     "output_type": "execute_result"
    }
   ],
   "source": [
    "df_elr.dtypes"
   ]
  },
  {
   "cell_type": "code",
   "execution_count": 6,
   "id": "2877853d-c8dd-434d-a8bd-a19dbaf9f14a",
   "metadata": {},
   "outputs": [],
   "source": [
    "#Convert columns to pandas datetime\n",
    "date_columns = ['origin', 'valuation']\n",
    "df_data[date_columns] = df_data[date_columns].apply(pd.to_datetime)"
   ]
  },
  {
   "cell_type": "code",
   "execution_count": 7,
   "id": "03656982-9372-4264-b9ed-7916d72e6038",
   "metadata": {},
   "outputs": [],
   "source": [
    "#merging df_elr with df_data to create UltExpectedDIRLoss\n",
    "df_data = pd.merge(df_data, df_elr, on=['LOB', 'origin'], how='left')"
   ]
  },
  {
   "cell_type": "code",
   "execution_count": 8,
   "id": "dba56c73-85b1-40da-805a-7019ae445f4c",
   "metadata": {},
   "outputs": [
    {
     "data": {
      "text/html": [
       "<div>\n",
       "<style scoped>\n",
       "    .dataframe tbody tr th:only-of-type {\n",
       "        vertical-align: middle;\n",
       "    }\n",
       "\n",
       "    .dataframe tbody tr th {\n",
       "        vertical-align: top;\n",
       "    }\n",
       "\n",
       "    .dataframe thead th {\n",
       "        text-align: right;\n",
       "    }\n",
       "</style>\n",
       "<table border=\"1\" class=\"dataframe\">\n",
       "  <thead>\n",
       "    <tr style=\"text-align: right;\">\n",
       "      <th></th>\n",
       "      <th>LOB</th>\n",
       "      <th>origin</th>\n",
       "      <th>valuation</th>\n",
       "      <th>development</th>\n",
       "      <th>IncurLoss</th>\n",
       "      <th>CumPaidLoss</th>\n",
       "      <th>BulkLoss</th>\n",
       "      <th>EarnedPremDIR</th>\n",
       "      <th>EarnedPremCeded</th>\n",
       "      <th>EarnedPremNet</th>\n",
       "      <th>ELR</th>\n",
       "    </tr>\n",
       "  </thead>\n",
       "  <tbody>\n",
       "    <tr>\n",
       "      <th>0</th>\n",
       "      <td>comauto</td>\n",
       "      <td>1988-01-01</td>\n",
       "      <td>1988-12-31</td>\n",
       "      <td>12</td>\n",
       "      <td>600839</td>\n",
       "      <td>154058</td>\n",
       "      <td>182604</td>\n",
       "      <td>1099729</td>\n",
       "      <td>186093</td>\n",
       "      <td>913636</td>\n",
       "      <td>0.65</td>\n",
       "    </tr>\n",
       "    <tr>\n",
       "      <th>1</th>\n",
       "      <td>comauto</td>\n",
       "      <td>1988-01-01</td>\n",
       "      <td>1989-12-31</td>\n",
       "      <td>24</td>\n",
       "      <td>632654</td>\n",
       "      <td>326916</td>\n",
       "      <td>90656</td>\n",
       "      <td>1099729</td>\n",
       "      <td>186093</td>\n",
       "      <td>913636</td>\n",
       "      <td>0.65</td>\n",
       "    </tr>\n",
       "    <tr>\n",
       "      <th>2</th>\n",
       "      <td>comauto</td>\n",
       "      <td>1988-01-01</td>\n",
       "      <td>1990-12-31</td>\n",
       "      <td>36</td>\n",
       "      <td>645663</td>\n",
       "      <td>447963</td>\n",
       "      <td>54262</td>\n",
       "      <td>1099729</td>\n",
       "      <td>186093</td>\n",
       "      <td>913636</td>\n",
       "      <td>0.65</td>\n",
       "    </tr>\n",
       "    <tr>\n",
       "      <th>3</th>\n",
       "      <td>comauto</td>\n",
       "      <td>1988-01-01</td>\n",
       "      <td>1991-12-31</td>\n",
       "      <td>48</td>\n",
       "      <td>646526</td>\n",
       "      <td>528167</td>\n",
       "      <td>27431</td>\n",
       "      <td>1099729</td>\n",
       "      <td>186093</td>\n",
       "      <td>913636</td>\n",
       "      <td>0.65</td>\n",
       "    </tr>\n",
       "    <tr>\n",
       "      <th>4</th>\n",
       "      <td>comauto</td>\n",
       "      <td>1988-01-01</td>\n",
       "      <td>1992-12-31</td>\n",
       "      <td>60</td>\n",
       "      <td>642177</td>\n",
       "      <td>574471</td>\n",
       "      <td>14819</td>\n",
       "      <td>1099729</td>\n",
       "      <td>186093</td>\n",
       "      <td>913636</td>\n",
       "      <td>0.65</td>\n",
       "    </tr>\n",
       "  </tbody>\n",
       "</table>\n",
       "</div>"
      ],
      "text/plain": [
       "       LOB     origin  valuation  development  IncurLoss  CumPaidLoss  \\\n",
       "0  comauto 1988-01-01 1988-12-31           12     600839       154058   \n",
       "1  comauto 1988-01-01 1989-12-31           24     632654       326916   \n",
       "2  comauto 1988-01-01 1990-12-31           36     645663       447963   \n",
       "3  comauto 1988-01-01 1991-12-31           48     646526       528167   \n",
       "4  comauto 1988-01-01 1992-12-31           60     642177       574471   \n",
       "\n",
       "   BulkLoss  EarnedPremDIR  EarnedPremCeded  EarnedPremNet   ELR  \n",
       "0    182604        1099729           186093         913636  0.65  \n",
       "1     90656        1099729           186093         913636  0.65  \n",
       "2     54262        1099729           186093         913636  0.65  \n",
       "3     27431        1099729           186093         913636  0.65  \n",
       "4     14819        1099729           186093         913636  0.65  "
      ]
     },
     "execution_count": 8,
     "metadata": {},
     "output_type": "execute_result"
    }
   ],
   "source": [
    "df_data.head()"
   ]
  },
  {
   "cell_type": "code",
   "execution_count": 9,
   "id": "3e1e333a",
   "metadata": {},
   "outputs": [],
   "source": [
    "#Creating Expected Loss column using pandas instead of using chainladder.\n",
    "#Easier to perform the operation here.\n",
    "df_data['UltExpectedDIRLoss'] = df_data['EarnedPremDIR'] * df_data['ELR']"
   ]
  },
  {
   "cell_type": "code",
   "execution_count": 10,
   "id": "656cf385-3d2b-4471-9d42-148d80ef7032",
   "metadata": {},
   "outputs": [],
   "source": [
    "tri = cl.Triangle(data=df_data,\n",
    "                  origin='origin',\n",
    "                  development='valuation',\n",
    "                  index='LOB',\n",
    "                  columns=['IncurLoss', 'CumPaidLoss', 'BulkLoss', 'EarnedPremDIR', 'EarnedPremCeded', 'EarnedPremNet', 'UltExpectedDIRLoss'],\n",
    "                  cumulative=True\n",
    "\n",
    ")"
   ]
  },
  {
   "cell_type": "code",
   "execution_count": 11,
   "id": "49877524",
   "metadata": {},
   "outputs": [
    {
     "data": {
      "text/html": [
       "<table border=\"1\" class=\"dataframe\">\n",
       "  <thead>\n",
       "    <tr style=\"text-align: right;\">\n",
       "      <th></th>\n",
       "      <th>Triangle Summary</th>\n",
       "    </tr>\n",
       "  </thead>\n",
       "  <tbody>\n",
       "    <tr>\n",
       "      <th>Valuation:</th>\n",
       "      <td>1997-12</td>\n",
       "    </tr>\n",
       "    <tr>\n",
       "      <th>Grain:</th>\n",
       "      <td>OYDY</td>\n",
       "    </tr>\n",
       "    <tr>\n",
       "      <th>Shape:</th>\n",
       "      <td>(6, 7, 10, 10)</td>\n",
       "    </tr>\n",
       "    <tr>\n",
       "      <th>Index:</th>\n",
       "      <td>[LOB]</td>\n",
       "    </tr>\n",
       "    <tr>\n",
       "      <th>Columns:</th>\n",
       "      <td>[IncurLoss, CumPaidLoss, BulkLoss, EarnedPremDIR, EarnedPremCeded, EarnedPremNet, UltExpectedDIRLoss]</td>\n",
       "    </tr>\n",
       "  </tbody>\n",
       "</table>"
      ],
      "text/plain": [
       "                                             Triangle Summary\n",
       "Valuation:                                            1997-12\n",
       "Grain:                                                   OYDY\n",
       "Shape:                                         (6, 7, 10, 10)\n",
       "Index:                                                  [LOB]\n",
       "Columns:    [IncurLoss, CumPaidLoss, BulkLoss, EarnedPremD..."
      ]
     },
     "execution_count": 11,
     "metadata": {},
     "output_type": "execute_result"
    }
   ],
   "source": [
    "tri"
   ]
  },
  {
   "cell_type": "code",
   "execution_count": 12,
   "id": "8faa63b9",
   "metadata": {},
   "outputs": [
    {
     "name": "stderr",
     "output_type": "stream",
     "text": [
      "C:\\Users\\NicholasEasley\\AppData\\Local\\Temp\\ipykernel_4996\\2117241740.py:4: DeprecationWarning: DataFrameGroupBy.apply operated on the grouping columns. This behavior is deprecated, and in a future version of pandas the grouping columns will be excluded from the operation. Either pass `include_groups=False` to exclude the groupings or explicitly select the grouping columns after groupby to silence this warning.\n",
      "  .apply(lambda group: dict(zip(group['age'], group['cdf'])))\n"
     ]
    }
   ],
   "source": [
    "# Create a dictionary of CDFs for each Line of Business (LOB)\n",
    "cdf_dict = (\n",
    "    df_cdf.groupby('LOB')\n",
    "    .apply(lambda group: dict(zip(group['age'], group['cdf'])))\n",
    "    .to_dict()\n",
    ")"
   ]
  },
  {
   "cell_type": "code",
   "execution_count": 13,
   "id": "37979e9d",
   "metadata": {},
   "outputs": [],
   "source": [
    "def get_paid_cdfs(row):\n",
    "    \"\"\"\n",
    "    Returns the appropriate CDFs based on the LOB specified in the input row.\n",
    "    \"\"\"\n",
    "    lob = row['LOB']\n",
    "    return cdf_dict.get(lob, {})"
   ]
  },
  {
   "cell_type": "code",
   "execution_count": 14,
   "id": "32f4d340",
   "metadata": {},
   "outputs": [
    {
     "ename": "AttributeError",
     "evalue": "'DataFrame' object has no attribute 'to_frame'",
     "output_type": "error",
     "traceback": [
      "\u001b[1;31m---------------------------------------------------------------------------\u001b[0m",
      "\u001b[1;31mAttributeError\u001b[0m                            Traceback (most recent call last)",
      "\u001b[1;32m~\\AppData\\Local\\Temp\\ipykernel_4996\\3580356604.py\u001b[0m in \u001b[0;36m?\u001b[1;34m()\u001b[0m\n\u001b[0;32m      1\u001b[0m \u001b[1;31m# Apply the function to the triangle index\u001b[0m\u001b[1;33m\u001b[0m\u001b[1;33m\u001b[0m\u001b[0m\n\u001b[1;32m----> 2\u001b[1;33m \u001b[0mcdf_patterns\u001b[0m \u001b[1;33m=\u001b[0m \u001b[0mtri\u001b[0m\u001b[1;33m.\u001b[0m\u001b[0mindex\u001b[0m\u001b[1;33m.\u001b[0m\u001b[0mto_frame\u001b[0m\u001b[1;33m(\u001b[0m\u001b[1;33m)\u001b[0m\u001b[1;33m.\u001b[0m\u001b[0mapply\u001b[0m\u001b[1;33m(\u001b[0m\u001b[0mget_paid_cdfs\u001b[0m\u001b[1;33m,\u001b[0m \u001b[0maxis\u001b[0m\u001b[1;33m=\u001b[0m\u001b[1;36m1\u001b[0m\u001b[1;33m)\u001b[0m\u001b[1;33m\u001b[0m\u001b[1;33m\u001b[0m\u001b[0m\n\u001b[0m",
      "\u001b[1;32mc:\\Users\\NicholasEasley\\anaconda3\\Lib\\site-packages\\pandas\\core\\generic.py\u001b[0m in \u001b[0;36m?\u001b[1;34m(self, name)\u001b[0m\n\u001b[0;32m   6295\u001b[0m             \u001b[1;32mand\u001b[0m \u001b[0mname\u001b[0m \u001b[1;32mnot\u001b[0m \u001b[1;32min\u001b[0m \u001b[0mself\u001b[0m\u001b[1;33m.\u001b[0m\u001b[0m_accessors\u001b[0m\u001b[1;33m\u001b[0m\u001b[1;33m\u001b[0m\u001b[0m\n\u001b[0;32m   6296\u001b[0m             \u001b[1;32mand\u001b[0m \u001b[0mself\u001b[0m\u001b[1;33m.\u001b[0m\u001b[0m_info_axis\u001b[0m\u001b[1;33m.\u001b[0m\u001b[0m_can_hold_identifiers_and_holds_name\u001b[0m\u001b[1;33m(\u001b[0m\u001b[0mname\u001b[0m\u001b[1;33m)\u001b[0m\u001b[1;33m\u001b[0m\u001b[1;33m\u001b[0m\u001b[0m\n\u001b[0;32m   6297\u001b[0m         \u001b[1;33m)\u001b[0m\u001b[1;33m:\u001b[0m\u001b[1;33m\u001b[0m\u001b[1;33m\u001b[0m\u001b[0m\n\u001b[0;32m   6298\u001b[0m             \u001b[1;32mreturn\u001b[0m \u001b[0mself\u001b[0m\u001b[1;33m[\u001b[0m\u001b[0mname\u001b[0m\u001b[1;33m]\u001b[0m\u001b[1;33m\u001b[0m\u001b[1;33m\u001b[0m\u001b[0m\n\u001b[1;32m-> 6299\u001b[1;33m         \u001b[1;32mreturn\u001b[0m \u001b[0mobject\u001b[0m\u001b[1;33m.\u001b[0m\u001b[0m__getattribute__\u001b[0m\u001b[1;33m(\u001b[0m\u001b[0mself\u001b[0m\u001b[1;33m,\u001b[0m \u001b[0mname\u001b[0m\u001b[1;33m)\u001b[0m\u001b[1;33m\u001b[0m\u001b[1;33m\u001b[0m\u001b[0m\n\u001b[0m",
      "\u001b[1;31mAttributeError\u001b[0m: 'DataFrame' object has no attribute 'to_frame'"
     ]
    }
   ],
   "source": [
    "# Apply the function to the triangle index\n",
    "cdf_patterns = tri.index.to_frame().apply(get_paid_cdfs, axis=1)"
   ]
  },
  {
   "cell_type": "code",
   "execution_count": null,
   "id": "bce88d8a",
   "metadata": {},
   "outputs": [],
   "source": [
    "# Use the patterns in the DevelopmentConstant\n",
    "custom_patterns = cl.DevelopmentConstant(\n",
    "    patterns=get_paid_cdfs,  # Use the refactored function directly\n",
    "    callable_axis=1,\n",
    "    style='cdf'\n",
    ").fit_transform(tri[\"CumPaidLoss\"])"
   ]
  },
  {
   "cell_type": "code",
   "execution_count": null,
   "id": "e9fa5eff",
   "metadata": {},
   "outputs": [],
   "source": [
    "plt.style.use('ggplot')\n",
    "%config InlineBackend.figure_format = 'retina'\n",
    "\n",
    "ax = custom_patterns.cdf_.T.plot(kind='bar', title='CDFs by LOB')"
   ]
  },
  {
   "cell_type": "code",
   "execution_count": 15,
   "id": "f09b29e6",
   "metadata": {},
   "outputs": [],
   "source": [
    "CL_model = cl.Chainladder().fit(X=custom_patterns)\n",
    "#The 'UltExpectedDIRLoss' column in the triangle is EP * ELR, so setting the apriori = 1.000\n",
    "BF_model = cl.BornhuetterFerguson(apriori=1.0).fit(X=custom_patterns, sample_weight=tri['UltExpectedDIRLoss'].latest_diagonal)\n",
    "CC_model = cl.CapeCod(trend=0.05, decay=0.95).fit(X=custom_patterns, sample_weight=tri['EarnedPremDIR'].latest_diagonal)"
   ]
  },
  {
   "cell_type": "code",
   "execution_count": null,
   "id": "48cf3776",
   "metadata": {},
   "outputs": [],
   "source": [
    "CL_model.ultimate_.to_frame().transpose().style.format('{:,.0f}')"
   ]
  },
  {
   "cell_type": "code",
   "execution_count": null,
   "id": "582704c5",
   "metadata": {},
   "outputs": [],
   "source": [
    "BF_model.ultimate_.to_frame().transpose().style.format('{:,.0f}')"
   ]
  },
  {
   "cell_type": "code",
   "execution_count": null,
   "id": "0fd46ace",
   "metadata": {},
   "outputs": [],
   "source": [
    "CC_model.ultimate_.to_frame().transpose().style.format('{:,.0f}')"
   ]
  },
  {
   "cell_type": "code",
   "execution_count": null,
   "id": "82dff97c",
   "metadata": {},
   "outputs": [],
   "source": [
    "CC_model.detrended_apriori_.to_frame().transpose().style.format('{:.2%}')"
   ]
  },
  {
   "cell_type": "code",
   "execution_count": 20,
   "id": "60d531a0",
   "metadata": {},
   "outputs": [],
   "source": [
    "df_CL_model = CL_model.ultimate_.to_frame().transpose().unstack().reset_index()\n",
    "df_CL_model.rename(columns={0: 'CL_Ult'}, inplace=True)\n",
    "\n",
    "df_BF_model = BF_model.ultimate_.to_frame().transpose().unstack().reset_index()\n",
    "df_BF_model.rename(columns={0: 'BF_Ult'}, inplace=True)\n",
    "\n",
    "df_CC_model = CC_model.ultimate_.to_frame().transpose().unstack().reset_index()\n",
    "df_CC_model.rename(columns={0: 'CC_Ult'}, inplace=True)\n",
    "\n",
    "df_ult = df_CL_model.merge(df_BF_model, on=['LOB', 'origin'], how='outer').merge(df_CC_model, on=['LOB', 'origin'], how='outer')"
   ]
  },
  {
   "cell_type": "code",
   "execution_count": null,
   "id": "51c2a5b4",
   "metadata": {},
   "outputs": [],
   "source": [
    "df_ult.loc[:, 'Selected_Ult'] = df_ult['BF_Ult']\n",
    "df_ult"
   ]
  },
  {
   "cell_type": "markdown",
   "id": "3e1ed0c7",
   "metadata": {},
   "source": [
    "## Least Squares Method.............."
   ]
  },
  {
   "cell_type": "code",
   "execution_count": 22,
   "id": "01392e78",
   "metadata": {},
   "outputs": [],
   "source": [
    "df_data['origin'] = df_data['origin'].dt.year\n",
    "df_ult['origin'] = df_ult['origin'].dt.year"
   ]
  },
  {
   "cell_type": "code",
   "execution_count": 23,
   "id": "e47c0f49",
   "metadata": {},
   "outputs": [],
   "source": [
    "df_data = pd.merge(df_data, df_ult[['LOB', 'origin', 'Selected_Ult']], on=['LOB', 'origin'], how='left')"
   ]
  },
  {
   "cell_type": "code",
   "execution_count": 24,
   "id": "02f7d97d",
   "metadata": {},
   "outputs": [],
   "source": [
    "current_eval = '1997-12-31'\n",
    "prediction_data = df_data[df_data['valuation'] == current_eval]\n",
    "fitting_data = df_data[df_data['valuation'] != current_eval]"
   ]
  },
  {
   "cell_type": "code",
   "execution_count": 25,
   "id": "404fd893",
   "metadata": {},
   "outputs": [],
   "source": [
    "models = {}\n",
    "predictions = []\n",
    "\n",
    "for (lob, development), group in fitting_data.groupby(['LOB', 'development']):\n",
    "    if group.shape[0] > 1:\n",
    "        X = group[['CumPaidLoss']]\n",
    "        y = group['Selected_Ult']\n",
    "\n",
    "        #fit a linear regression model\n",
    "        model = LinearRegression()\n",
    "        model.fit(X, y)\n",
    "\n",
    "        #Store the model for reference\n",
    "        models[(lob, development)] = model\n",
    "\n",
    "        target_subset = prediction_data[(prediction_data['LOB'] == lob) & (prediction_data['development'] == development)].copy()\n",
    "        if not target_subset.empty:\n",
    "            X_new = target_subset[['CumPaidLoss']]\n",
    "            target_subset['Least_Squares_Ult'] = model.predict(X_new)\n",
    "            predictions.append(target_subset)\n",
    "\n",
    "predictions_df = pd.concat(predictions, ignore_index=True)\n"
   ]
  },
  {
   "cell_type": "code",
   "execution_count": 26,
   "id": "b2b8dd0d",
   "metadata": {},
   "outputs": [],
   "source": [
    "Least_squares_df = predictions_df[['LOB', 'origin', 'Least_Squares_Ult']]\n",
    "df_ult = df_ult.merge(Least_squares_df, on=['LOB', 'origin'], how='left')"
   ]
  },
  {
   "cell_type": "code",
   "execution_count": 27,
   "id": "11128ada",
   "metadata": {},
   "outputs": [],
   "source": [
    "df_ult.to_clipboard()"
   ]
  },
  {
   "cell_type": "markdown",
   "id": "d23dd01f",
   "metadata": {},
   "source": [
    "## View of the triangles"
   ]
  },
  {
   "cell_type": "code",
   "execution_count": 28,
   "id": "71c0ef44",
   "metadata": {},
   "outputs": [],
   "source": [
    "from IPython.display import display, HTML\n",
    "def formatted_tri(lob):\n",
    "    display(HTML(f\"<h3>{lob} CumPaidLoss Triangle</h3>\"))\n",
    "    display(tri.loc[lob, 'CumPaidLoss'])\n",
    "    display(HTML(f\"<h3>{lob} Link Ratios</h3>\"))\n",
    "    display(tri.loc[lob, 'CumPaidLoss'].link_ratio)"
   ]
  },
  {
   "cell_type": "code",
   "execution_count": null,
   "id": "adf21672",
   "metadata": {},
   "outputs": [],
   "source": [
    "for i in list(df_ult['LOB'].unique()):\n",
    "    formatted_tri(i)"
   ]
  }
 ],
 "metadata": {
  "kernelspec": {
   "display_name": "base",
   "language": "python",
   "name": "python3"
  },
  "language_info": {
   "codemirror_mode": {
    "name": "ipython",
    "version": 3
   },
   "file_extension": ".py",
   "mimetype": "text/x-python",
   "name": "python",
   "nbconvert_exporter": "python",
   "pygments_lexer": "ipython3",
   "version": "3.12.3"
  }
 },
 "nbformat": 4,
 "nbformat_minor": 5
}
